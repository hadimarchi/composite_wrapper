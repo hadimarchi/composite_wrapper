{
 "cells": [
  {
   "cell_type": "code",
   "execution_count": 11,
   "metadata": {},
   "outputs": [],
   "source": [
    "#Utility functions for ensuring validity of user input, specifically whether the bounding box exists on earth or not\n",
    "def check_longitude_validity(min_longitude, max_longitude):\n",
    "    if min_longitude > max_longitude:\n",
    "        raise Exception(\"minimum longitude must be less than maximum longitude\")\n",
    "    if min_longitude < -180.0 or min_longitude > 180.0:\n",
    "        raise Exception(\"minimum longitude is not a valid value for longitude\")\n",
    "    if max_longitude < -180.0 or max_longitude > 180.0:\n",
    "        raise Exception(\"maximum longitude is not a valid value for longitude\")\n",
    "\n",
    "\n",
    "def check_latitude_validity(min_latitude, max_latitude):\n",
    "    if min_latitude > max_latitude:\n",
    "        raise Exception(\"minimum latitude must be less than maximum latitude\")\n",
    "    if min_latitude < -90.0 or min_latitude > 90.0:\n",
    "        raise Exception(\"minimum latitude is not a valid value for latitude\")\n",
    "    if max_latitude < -90.0 or max_latitude > 90.0:\n",
    "        raise Exception(\"maximum latitude is not a valid value for latitude\")\n",
    "\n",
    "\n",
    "def check_bounding_box_validity(lon_lat_min, lon_lat_max):\n",
    "    check_longitude_validity(min_longitude=lon_lat_min[0], max_longitude=lon_lat_max[0])\n",
    "    check_latitude_validity(min_latitude=lon_lat_min[1], max_latitude=lon_lat_max[1])\n",
    "    \n"
   ]
  },
  {
   "cell_type": "code",
   "execution_count": 22,
   "metadata": {},
   "outputs": [],
   "source": [
    "#class for organizing all user provided options for rtc-gamma and composite process.\n",
    "#In the original script this is done through command line options\n",
    "\n",
    "class compositeOptions():\n",
    "    def init(self):\n",
    "        return None\n",
    "    def get_options(self):\n",
    "        self.earthdata_username=input(\"provide your earthdata username: \")\n",
    "        self.earthdata_password=input(\"provide your earthdata password: \")\n",
    "        self.start_date=input(\"provide start date for granule search in the form of yyyy-mm-dd or leave blank: \")\n",
    "        self.end_date=input(\"provide end date for granule search in the form of yyyy-mm-dd or leave blank: \")\n",
    "        self.lon_lat_minimum=input(\"provide a coordinate to define lower left corner of bounding box in the form 'min_lon, min_lat': \")\n",
    "        self.lon_lat_maximum=input(\"provide a coordinate to define upper right corner of bounding box in the form 'max_lon, max_lat': \")\n",
    "        self.granule_count=input(\"provide the maximum number of granules for composite process: \")\n",
    "        self.polarization=input(\"provide desired polarization of granules [vv, vh, vv+vh]\") \n",
    "        \n",
    "        self.parse_bounding_box()\n",
    "    \n",
    "    def parse_bounding_box(self):\n",
    "        self.lon_lat_minimum = self.lon_lat_minimum.split(\" \")\n",
    "        self.lon_lat_minimum[0] = float(self.lon_lat_minimum[0])\n",
    "        self.lon_lat_minimum[1] = float(self.lon_lat_minimum[1])\n",
    "        \n",
    "        self.lon_lat_maximum = self.lon_lat_maximum.split(\" \")\n",
    "        self.lon_lat_maximum[0] = float(self.lon_lat_maximum[0])\n",
    "        self.lon_lat_maximum[1] = float(self.lon_lat_maximum[1])\n",
    "        \n",
    "        check_bounding_box_validity(self.lon_lat_minimum, self.lon_lat_maximum)"
   ]
  },
  {
   "cell_type": "code",
   "execution_count": 24,
   "metadata": {
    "scrolled": false
   },
   "outputs": [
    {
     "name": "stdout",
     "output_type": "stream",
     "text": [
      "provide your earthdata username: rr\n",
      "provide your earthdata password: r\n",
      "provide start date for granule search in the form of yyyy-mm-dd or 'None': \n",
      "provide a coordinate to define lower left corner of bounding box in the form 'min_lon, min_lat': -120.0 68.4\n",
      "provide a coordinate to define upper right corner of bounding box in the form 'max_lon, max_lat': -118.0 69.0\n",
      "provide the maximum number of granules for composite process: 5\n"
     ]
    }
   ],
   "source": [
    "#Prompt user to provide input and create object holding that input for duration of processing \n",
    "composite_options=compositeOptions()\n",
    "composite_options.get_options()"
   ]
  },
  {
   "cell_type": "code",
   "execution_count": 9,
   "metadata": {},
   "outputs": [
    {
     "name": "stdout",
     "output_type": "stream",
     "text": [
      "hadimarchi\n"
     ]
    }
   ],
   "source": [
    "#Main utility functions for buidling earthdata search url\n",
    "\n",
    "def get_fetch_url_bbox(composite_options):\n",
    "    min_bbox_bound = composite_options.lon_lat_minimum\n",
    "    max_bbox_bound = composite_options.lon_lat_maximum\n",
    "\n",
    "    fetch_url_bbox = \"bbox={min_lon},{min_lat},{max_lon},{max_lat}&\".format(\n",
    "        min_lon=min_bbox_bound[0],\n",
    "        min_lat=min_bbox_bound[1],\n",
    "        max_lon=max_bbox_bound[0],\n",
    "        max_lat=max_bbox_bound[1]\n",
    "        )\n",
    "    return fetch_url_bbox\n",
    "\n",
    "\n",
    "def get_fetch_url_date_range(composite_options):\n",
    "    fetch_url_date_range = \"start={start_date}T00:00:00UTC&end={end_date}T00:00:00&\".format(\n",
    "        start_date=composite_options.start_date if composite_options.start_date is not None else \"2014-06-15\",\n",
    "        end_date=composite_options.end_date if composite_options.end_date is not None else str(date.today())\n",
    "        )\n",
    "    return fetch_url_date_range\n",
    "\n",
    "\n",
    "def get_fetch_url_polarization(composite_options):\n",
    "    fetch_url_polarization = \"polarization={polarization}\".format(\n",
    "        polarization=composite_options.polarization.upper()\n",
    "    ).replace(\"+\", \"%2B\")\n",
    "    return fetch_url_polarization\n",
    "\n",
    "\n",
    "def get_granule_names(granule_list):\n",
    "    granule_names = []\n",
    "    for granule in granule_list:\n",
    "        name = granule[\"granuleName\"]\n",
    "        logger.info(\"Acquired granule {name}\".format(name=name))\n",
    "        granule_names.append(name)\n",
    "\n",
    "    return granule_names"
   ]
  },
  {
   "cell_type": "code",
   "execution_count": null,
   "metadata": {},
   "outputs": [],
   "source": [
    "# Search url for granules to process with rtc gamma\n",
    "\n",
    "def build_search_url(composite_options):\n",
    "    base_url = \"https://api.daac.asf.alaska.edu/services/search/param?\"\n",
    "\n",
    "    fetch_url_bbox = get_fetch_url_bbox(composite_options)\n",
    "\n",
    "    fetch_url_date_range = get_fetch_url_date_range(composite_options)\n",
    "\n",
    "    fetch_url_polarization = get_fetch_url_polarization(composite_options)\n",
    "\n",
    "    fetch_url = \"{base_url}{bbox}{date_range}{polarization}&platform=S1&processingLevel=GRD_HD&output=JSON\".format(\n",
    "        base_url=base_url,\n",
    "        bbox=fetch_url_bbox,\n",
    "        date_range=fetch_url_date_range,\n",
    "        polarization=fetch_url_polarization\n",
    "        )\n",
    "    logger.debug(\"Fetch url is {fetch_url}\".format(fetch_url=fetch_url))\n",
    "    return fetch_url"
   ]
  },
  {
   "cell_type": "code",
   "execution_count": null,
   "metadata": {},
   "outputs": [],
   "source": [
    "def fetch_granules(composite_options):\n",
    "    search_url = build_search_url()\n",
    "    granules = requests.get(search_url).json()[0] \n",
    "    # Somewhat confusing format but .json() call creates a list where the first element\n",
    "    # is a dictionary containing a variety of information about said granules\n",
    "    granule_names = get_granule_names(granules)\n",
    "\n",
    "    if granule_names == []:\n",
    "        raise Exception(\"No granules found\")\n",
    "    logger.info(\"Found {granule_count} granules\".format(granule_count=len(granule_names)))\n",
    "    return granule_names"
   ]
  }
 ],
 "metadata": {
  "kernelspec": {
   "display_name": "composite_wrapper_env",
   "language": "python",
   "name": "composite_wrapper_env"
  },
  "language_info": {
   "codemirror_mode": {
    "name": "ipython",
    "version": 3
   },
   "file_extension": ".py",
   "mimetype": "text/x-python",
   "name": "python",
   "nbconvert_exporter": "python",
   "pygments_lexer": "ipython3",
   "version": "3.9.1"
  }
 },
 "nbformat": 4,
 "nbformat_minor": 4
}
