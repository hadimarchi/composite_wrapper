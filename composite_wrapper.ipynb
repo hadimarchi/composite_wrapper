{
 "cells": [
  {
   "cell_type": "code",
   "execution_count": 1,
   "metadata": {},
   "outputs": [],
   "source": [
    "#Utility functions for ensuring validity of user input, specifically whether the bounding box exists on earth or not\n",
    "def check_longitude_validity(min_longitude, max_longitude):\n",
    "    if min_longitude > max_longitude:\n",
    "        raise Exception(\"minimum longitude must be less than maximum longitude\")\n",
    "    if min_longitude < -180.0 or min_longitude > 180.0:\n",
    "        raise Exception(\"minimum longitude is not a valid value for longitude\")\n",
    "    if max_longitude < -180.0 or max_longitude > 180.0:\n",
    "        raise Exception(\"maximum longitude is not a valid value for longitude\")\n",
    "\n",
    "\n",
    "def check_latitude_validity(min_latitude, max_latitude):\n",
    "    if min_latitude > max_latitude:\n",
    "        raise Exception(\"minimum latitude must be less than maximum latitude\")\n",
    "    if min_latitude < -90.0 or min_latitude > 90.0:\n",
    "        raise Exception(\"minimum latitude is not a valid value for latitude\")\n",
    "    if max_latitude < -90.0 or max_latitude > 90.0:\n",
    "        raise Exception(\"maximum latitude is not a valid value for latitude\")\n",
    "\n",
    "\n",
    "def check_bounding_box_validity(lon_lat_min, lon_lat_max):\n",
    "    check_longitude_validity(min_longitude=lon_lat_min[0], max_longitude=lon_lat_max[0])\n",
    "    check_latitude_validity(min_latitude=lon_lat_min[1], max_latitude=lon_lat_max[1])\n",
    "    \n"
   ]
  },
  {
   "cell_type": "code",
   "execution_count": 2,
   "metadata": {},
   "outputs": [],
   "source": [
    "#class for organizing all user provided options for rtc-gamma and composite process.\n",
    "#In the original script this is done through command line options\n",
    "\n",
    "from getpass import getpass\n",
    "\n",
    "class compositeOptions():\n",
    "    def init(self):\n",
    "        return None\n",
    "    def get_options(self):\n",
    "        self.earthdata_username=input(\"provide your earthdata username: \")\n",
    "        self.earthdata_password=getpass(\"provide your earthdata password: \")\n",
    "        self.start_date=input(\"provide start date for granule search in the form of yyyy-mm-dd or leave blank: \")\n",
    "        self.end_date=input(\"provide end date for granule search in the form of yyyy-mm-dd or leave blank: \")\n",
    "        self.lon_lat_minimum=input(\"provide a coordinate to define lower left corner of bounding box in the form 'min_lon min_lat': \")\n",
    "        self.lon_lat_maximum=input(\"provide a coordinate to define upper right corner of bounding box in the form 'max_lon max_lat': \")\n",
    "        self.granule_count=int(input(\"provide the maximum number of granules for composite process: \"))\n",
    "        self.polarization=input(\"provide desired polarization of granules [vv, vh, vv+vh]\") \n",
    "        \n",
    "        self.parse_bounding_box()\n",
    "    \n",
    "    def parse_bounding_box(self):\n",
    "        self.lon_lat_minimum = self.lon_lat_minimum.split(\" \")\n",
    "        self.lon_lat_minimum[0] = float(self.lon_lat_minimum[0])\n",
    "        self.lon_lat_minimum[1] = float(self.lon_lat_minimum[1])\n",
    "        \n",
    "        self.lon_lat_maximum = self.lon_lat_maximum.split(\" \")\n",
    "        self.lon_lat_maximum[0] = float(self.lon_lat_maximum[0])\n",
    "        self.lon_lat_maximum[1] = float(self.lon_lat_maximum[1])\n",
    "        \n",
    "        check_bounding_box_validity(self.lon_lat_minimum, self.lon_lat_maximum)"
   ]
  },
  {
   "cell_type": "code",
   "execution_count": 17,
   "metadata": {
    "scrolled": false
   },
   "outputs": [
    {
     "name": "stdout",
     "output_type": "stream",
     "text": [
      "provide your earthdata username: hadimarchi\n",
      "provide your earthdata password: ········\n",
      "provide start date for granule search in the form of yyyy-mm-dd or leave blank: 2012-05-20\n",
      "provide end date for granule search in the form of yyyy-mm-dd or leave blank: 2016-05-20\n",
      "provide a coordinate to define lower left corner of bounding box in the form 'min_lon min_lat': 120.0 50.0\n",
      "provide a coordinate to define upper right corner of bounding box in the form 'max_lon max_lat': 122.0 53.0\n",
      "provide the maximum number of granules for composite process: 6\n",
      "provide desired polarization of granules [vv, vh, vv+vh]vv+vh\n"
     ]
    }
   ],
   "source": [
    "#Prompt user to provide input and create object holding that input for duration of processing \n",
    "composite_options=compositeOptions()\n",
    "composite_options.get_options()"
   ]
  },
  {
   "cell_type": "code",
   "execution_count": 18,
   "metadata": {},
   "outputs": [],
   "source": [
    "#Main utility functions for buidling earthdata search url\n",
    "\n",
    "def get_fetch_url_bbox(composite_options):\n",
    "    min_bbox_bound = composite_options.lon_lat_minimum\n",
    "    max_bbox_bound = composite_options.lon_lat_maximum\n",
    "\n",
    "    fetch_url_bbox = \"bbox={min_lon},{min_lat},{max_lon},{max_lat}&\".format(\n",
    "        min_lon=min_bbox_bound[0],\n",
    "        min_lat=min_bbox_bound[1],\n",
    "        max_lon=max_bbox_bound[0],\n",
    "        max_lat=max_bbox_bound[1]\n",
    "        )\n",
    "    return fetch_url_bbox\n",
    "\n",
    "\n",
    "def get_fetch_url_date_range(composite_options):\n",
    "    fetch_url_date_range = \"start={start_date}T00:00:00UTC&end={end_date}T00:00:00&\".format(\n",
    "        start_date=composite_options.start_date if composite_options.start_date is not None else \"2014-06-15\",\n",
    "        end_date=composite_options.end_date if composite_options.end_date is not None else str(date.today())\n",
    "        )\n",
    "    return fetch_url_date_range\n",
    "\n",
    "\n",
    "def get_fetch_url_polarization(composite_options):\n",
    "    fetch_url_polarization = \"polarization={polarization}\".format(\n",
    "        polarization=composite_options.polarization.upper()\n",
    "    ).replace(\"+\", \"%2B\")\n",
    "    return fetch_url_polarization\n",
    "\n",
    "\n",
    "def get_granule_names(granule_list):\n",
    "    granule_names = []\n",
    "    for granule in granule_list:\n",
    "        name = granule[\"granuleName\"]\n",
    "        granule_names.append(name)\n",
    "    return granule_names"
   ]
  },
  {
   "cell_type": "code",
   "execution_count": 19,
   "metadata": {},
   "outputs": [],
   "source": [
    "# Search url for granules to process with rtc gamma\n",
    "\n",
    "def build_search_url(composite_options):\n",
    "    base_url = \"https://api.daac.asf.alaska.edu/services/search/param?\"\n",
    "\n",
    "    fetch_url_bbox = get_fetch_url_bbox(composite_options)\n",
    "\n",
    "    fetch_url_date_range = get_fetch_url_date_range(composite_options)\n",
    "\n",
    "    fetch_url_polarization = get_fetch_url_polarization(composite_options)\n",
    "\n",
    "    fetch_url = \"{base_url}{bbox}{date_range}{polarization}&platform=S1&processingLevel=GRD_HD&output=JSON\".format(\n",
    "        base_url=base_url,\n",
    "        bbox=fetch_url_bbox,\n",
    "        date_range=fetch_url_date_range,\n",
    "        polarization=fetch_url_polarization\n",
    "        )\n",
    "    return fetch_url"
   ]
  },
  {
   "cell_type": "code",
   "execution_count": 20,
   "metadata": {},
   "outputs": [],
   "source": [
    "import requests\n",
    "\n",
    "def fetch_granules(composite_options):\n",
    "    search_url = build_search_url(composite_options)\n",
    "    granules = requests.get(search_url).json()[0] \n",
    "    # Somewhat confusing format but .json() call creates a list where the first element\n",
    "    # is a dictionary containing a variety of information about said granules\n",
    "    granule_names = get_granule_names(granules)\n",
    "    granule_names = granule_names[0:composite_options.granule_count]\n",
    "\n",
    "    if granule_names == []:\n",
    "        raise Exception(\"No granules found\")\n",
    "    return granule_names"
   ]
  },
  {
   "cell_type": "code",
   "execution_count": 21,
   "metadata": {},
   "outputs": [],
   "source": [
    "granules = fetch_granules(composite_options=composite_options)"
   ]
  },
  {
   "cell_type": "code",
   "execution_count": 22,
   "metadata": {},
   "outputs": [],
   "source": [
    "from hyp3_sdk import HyP3\n",
    "from datetime import datetime\n",
    "\n",
    "def rtc_gamma(granules, composite_options):\n",
    "    hyp3 = HyP3(username=composite_options.earthdata_username, password=composite_options.earthdata_password)\n",
    "    rtc_gamma_jobs = [hyp3.prepare_rtc_job(granule=granule, include_scattering_area=True) for granule in granules]\n",
    "    rtc_gamma_batch = hyp3.submit_prepared_jobs(rtc_gamma_jobs)\n",
    "    rtc_gamma_batch = hyp3.watch(rtc_gamma_batch)\n",
    "    return rtc_gamma_batch\n",
    "\n",
    "def download_gamma_products(gamma_batch, composite_options):\n",
    "    \n",
    "    download_location = \"{now}_min:{lon_lat_min}_max:{lon_lat_max}_granules:{granule_count}\".format(\n",
    "        now=datetime.now().isoformat(),\n",
    "        lon_lat_min=composite_options.lon_lat_minimum,\n",
    "        lon_lat_max=composite_options.lon_lat_maximum,\n",
    "        granule_count=len(granules)\n",
    "    )\n",
    "    gamma_batch.download_files(location=download_location)\n",
    "    return download_location\n",
    "\n",
    "def run_rtc_gamma(granules, composite_options):\n",
    "    rtc_gamma_batch = rtc_gamma(granules, composite_options)\n",
    "    download_location = download_gamma_products(gamma_batch=rtc_gamma_batch, composite_options=composite_options)\n",
    "    return download_location"
   ]
  },
  {
   "cell_type": "code",
   "execution_count": 23,
   "metadata": {},
   "outputs": [
    {
     "data": {
      "application/vnd.jupyter.widget-view+json": {
       "model_id": "43e2f75fdee0416a914ad2a601295216",
       "version_major": 2,
       "version_minor": 0
      },
      "text/plain": [
       "  0%|          | 0/6 [timeout in 10800 s]"
      ]
     },
     "metadata": {},
     "output_type": "display_data"
    },
    {
     "data": {
      "application/vnd.jupyter.widget-view+json": {
       "model_id": "13de7a8a08ad437d99a0bf29dc5e6318",
       "version_major": 2,
       "version_minor": 0
      },
      "text/plain": [
       "  0%|          | 0/6 [00:00<?, ?it/s]"
      ]
     },
     "metadata": {},
     "output_type": "display_data"
    },
    {
     "data": {
      "application/vnd.jupyter.widget-view+json": {
       "model_id": "6c68a3b7eda64f1ebe3feba0c536031e",
       "version_major": 2,
       "version_minor": 0
      },
      "text/plain": [
       "S1A_IW_20160518T221746_DVP_RTC30_G_gpuned_7CA9.zip:   0%|          | 0/665038682 [00:00<?, ?it/s]"
      ]
     },
     "metadata": {},
     "output_type": "display_data"
    },
    {
     "data": {
      "application/vnd.jupyter.widget-view+json": {
       "model_id": "ff75445da12c4b4a8232bf7501174501",
       "version_major": 2,
       "version_minor": 0
      },
      "text/plain": [
       "S1A_IW_20160518T221721_DVP_RTC30_G_gpuned_8C28.zip:   0%|          | 0/672851469 [00:00<?, ?it/s]"
      ]
     },
     "metadata": {},
     "output_type": "display_data"
    },
    {
     "data": {
      "application/vnd.jupyter.widget-view+json": {
       "model_id": "ede1a3e4c1e240a8811a77381b7b243e",
       "version_major": 2,
       "version_minor": 0
      },
      "text/plain": [
       "S1A_IW_20160518T221652_DVP_RTC30_G_gpuned_4EDB.zip:   0%|          | 0/759921477 [00:00<?, ?it/s]"
      ]
     },
     "metadata": {},
     "output_type": "display_data"
    },
    {
     "data": {
      "application/vnd.jupyter.widget-view+json": {
       "model_id": "d7af0e8dc38242e5b41c8a89b05070f7",
       "version_major": 2,
       "version_minor": 0
      },
      "text/plain": [
       "S1A_IW_20160513T220936_DVP_RTC30_G_gpuned_FC36.zip:   0%|          | 0/671055216 [00:00<?, ?it/s]"
      ]
     },
     "metadata": {},
     "output_type": "display_data"
    },
    {
     "data": {
      "application/vnd.jupyter.widget-view+json": {
       "model_id": "8e400949c23c42439419255429994d1e",
       "version_major": 2,
       "version_minor": 0
      },
      "text/plain": [
       "S1A_IW_20160513T220911_DVP_RTC30_G_gpuned_9DCC.zip:   0%|          | 0/673242189 [00:00<?, ?it/s]"
      ]
     },
     "metadata": {},
     "output_type": "display_data"
    },
    {
     "data": {
      "application/vnd.jupyter.widget-view+json": {
       "model_id": "edbe576d6cc640448303e1d40bab2876",
       "version_major": 2,
       "version_minor": 0
      },
      "text/plain": [
       "S1A_IW_20160513T220842_DVP_RTC30_G_gpuned_B653.zip:   0%|          | 0/762373157 [00:00<?, ?it/s]"
      ]
     },
     "metadata": {},
     "output_type": "display_data"
    }
   ],
   "source": [
    "download_location = run_rtc_gamma(granules=granules, composite_options=composite_options)"
   ]
  },
  {
   "cell_type": "code",
   "execution_count": 24,
   "metadata": {},
   "outputs": [],
   "source": [
    "# This cell includes functions for running the make_composite tool in the asf_tools package on\n",
    "# the rtc gamma products we have just generated and downloaded\n",
    "\n",
    "from zipfile import ZipFile\n",
    "from pathlib import Path\n",
    "from asf_tools.composite import make_composite\n",
    "\n",
    "\n",
    "def collect_polarized_products(products_path, polarization):\n",
    "    products = list(products_path.glob(\"**/*{polarization}.tif\".format(\n",
    "        polarization=polarization)\n",
    "        ))\n",
    "    products = [str(product) for product in products]\n",
    "    return products\n",
    "\n",
    "def unzip_rtc_products(download_location, polarization):\n",
    "    products_path = Path(download_location)\n",
    "    zipped_products = list(products_path.glob('**/*.zip'))\n",
    "    for zipped_product in zipped_products:\n",
    "        with ZipFile(zipped_product, 'r') as zipObj:\n",
    "            zipObj.extractall(\"{location}\".format(location=download_location))\n",
    "    unzipped_products = {\"vv_products\": collect_polarized_products(products_path, \"VV\") if \"vv\" in polarization else [],\n",
    "                         \"vh_products\": collect_polarized_products(products_path, \"VH\") if \"vh\" in polarization else []} \n",
    "    return unzipped_products\n",
    "\n",
    "\n",
    "def run_make_composite(download_location, composite_options):\n",
    "    unzipped_products = unzip_rtc_products(download_location, polarization=composite_options.polarization)\n",
    "    if unzipped_products[\"vv_products\"] != []:\n",
    "        make_composite(\"{location}/VV-composite\".format(location=download_location),\n",
    "                       unzipped_products[\"vv_products\"])\n",
    "    if unzipped_products[\"vh_products\"] != []:\n",
    "        make_composite(\"{location}/VH-composite\".format(location=download_location),\n",
    "                       unzipped_products[\"vh_products\"])"
   ]
  },
  {
   "cell_type": "code",
   "execution_count": 25,
   "metadata": {},
   "outputs": [],
   "source": [
    "# Running make_composite\n",
    "\n",
    "run_make_composite(download_location=download_location, composite_options=composite_options)"
   ]
  },
  {
   "cell_type": "code",
   "execution_count": null,
   "metadata": {},
   "outputs": [],
   "source": []
  }
 ],
 "metadata": {
  "kernelspec": {
   "display_name": "composite_wrapper_env",
   "language": "python",
   "name": "composite_wrapper_env"
  },
  "language_info": {
   "codemirror_mode": {
    "name": "ipython",
    "version": 3
   },
   "file_extension": ".py",
   "mimetype": "text/x-python",
   "name": "python",
   "nbconvert_exporter": "python",
   "pygments_lexer": "ipython3",
   "version": "3.9.1"
  }
 },
 "nbformat": 4,
 "nbformat_minor": 4
}
