{
 "cells": [
  {
   "cell_type": "markdown",
   "metadata": {},
   "source": [
    "This notebook serves to demonstrate the bare functionality of the make composite wrapper. It does not have the full functionality of the main wrapper."
   ]
  },
  {
   "cell_type": "code",
   "execution_count": 1,
   "metadata": {},
   "outputs": [],
   "source": [
    "# Utility functions for ensuring validity of user input, specifically whether the bounding box exists on \n",
    "# earth or not\n",
    "\n",
    "def check_longitude_validity(min_longitude, max_longitude):\n",
    "    if min_longitude > max_longitude:\n",
    "        raise Exception(\"minimum longitude must be less than maximum longitude\")\n",
    "    if min_longitude < -180.0 or min_longitude > 180.0:\n",
    "        raise Exception(\"minimum longitude is not a valid value for longitude\")\n",
    "    if max_longitude < -180.0 or max_longitude > 180.0:\n",
    "        raise Exception(\"maximum longitude is not a valid value for longitude\")\n",
    "\n",
    "\n",
    "def check_latitude_validity(min_latitude, max_latitude):\n",
    "    if min_latitude > max_latitude:\n",
    "        raise Exception(\"minimum latitude must be less than maximum latitude\")\n",
    "    if min_latitude < -90.0 or min_latitude > 90.0:\n",
    "        raise Exception(\"minimum latitude is not a valid value for latitude\")\n",
    "    if max_latitude < -90.0 or max_latitude > 90.0:\n",
    "        raise Exception(\"maximum latitude is not a valid value for latitude\")\n",
    "\n",
    "\n",
    "def check_bounding_box_validity(lon_lat_min, lon_lat_max):\n",
    "    check_longitude_validity(min_longitude=lon_lat_min[0], max_longitude=lon_lat_max[0])\n",
    "    check_latitude_validity(min_latitude=lon_lat_min[1], max_latitude=lon_lat_max[1])\n",
    "    \n"
   ]
  },
  {
   "cell_type": "code",
   "execution_count": 34,
   "metadata": {},
   "outputs": [],
   "source": [
    "# Class for organizing all user provided options for rtc-gamma and composite process.\n",
    "# In the original script this is done through command line options\n",
    "\n",
    "from getpass import getpass \n",
    "\n",
    "class compositeOptions():\n",
    "    def get_options(self):\n",
    "        self.earthdata_username=input(\"provide your earthdata username: \")\n",
    "        self.earthdata_password=getpass(\"provide your earthdata password: \")\n",
    "        self.start_date=str(input(\"provide start date for granule search in the form of yyyy-mm-dd or leave blank: \"))\n",
    "        self.end_date=str(input(\"provide end date for granule search in the form of yyyy-mm-dd or leave blank: \"))\n",
    "        self.lon_lat_minimum=input(\"provide a coordinate to define lower left corner of bounding box in the form 'min_lon min_lat': \")\n",
    "        self.lon_lat_maximum=input(\"provide a coordinate to define upper right corner of bounding box in the form 'max_lon max_lat': \")\n",
    "        self.granule_count=int(input(\"provide the maximum number of granules for composite process: \"))\n",
    "        self.polarization=str(input(\"provide desired polarization of granules [vv, vh, vv+vh]\"))\n",
    "        \n",
    "        self.parse_bounding_box()\n",
    "    \n",
    "    def parse_bounding_box(self):\n",
    "        self.lon_lat_minimum = self.lon_lat_minimum.split(\" \")\n",
    "        self.lon_lat_minimum[0] = float(self.lon_lat_minimum[0])\n",
    "        self.lon_lat_minimum[1] = float(self.lon_lat_minimum[1])\n",
    "        \n",
    "        self.lon_lat_maximum = self.lon_lat_maximum.split(\" \")\n",
    "        self.lon_lat_maximum[0] = float(self.lon_lat_maximum[0])\n",
    "        self.lon_lat_maximum[1] = float(self.lon_lat_maximum[1])\n",
    "        \n",
    "        check_bounding_box_validity(self.lon_lat_minimum, self.lon_lat_maximum)"
   ]
  },
  {
   "cell_type": "code",
   "execution_count": 35,
   "metadata": {
    "scrolled": false
   },
   "outputs": [
    {
     "name": "stdout",
     "output_type": "stream",
     "text": [
      "provide your earthdata username: hadimarchi\n",
      "provide your earthdata password: ········\n",
      "provide start date for granule search in the form of yyyy-mm-dd or leave blank: \n",
      "provide end date for granule search in the form of yyyy-mm-dd or leave blank: \n",
      "provide a coordinate to define lower left corner of bounding box in the form 'min_lon min_lat': 120.5 60.6\n",
      "provide a coordinate to define upper right corner of bounding box in the form 'max_lon max_lat': 120.9 61.6\n",
      "provide the maximum number of granules for composite process: 4\n",
      "provide desired polarization of granules [vv, vh, vv+vh]vv+vh\n"
     ]
    }
   ],
   "source": [
    "# Prompt user to provide input and create object holding that input for duration of processing \n",
    "\n",
    "composite_options=compositeOptions()\n",
    "composite_options.get_options()"
   ]
  },
  {
   "cell_type": "code",
   "execution_count": 45,
   "metadata": {},
   "outputs": [],
   "source": [
    "# Main utility functions for buidling earthdata search url\n",
    "from datetime import date\n",
    "\n",
    "def get_search_url_bbox(composite_options):\n",
    "    min_bbox_bound = composite_options.lon_lat_minimum\n",
    "    max_bbox_bound = composite_options.lon_lat_maximum\n",
    "\n",
    "    fetch_url_bbox = \"bbox={min_lon},{min_lat},{max_lon},{max_lat}&\".format(\n",
    "        min_lon=min_bbox_bound[0],\n",
    "        min_lat=min_bbox_bound[1],\n",
    "        max_lon=max_bbox_bound[0],\n",
    "        max_lat=max_bbox_bound[1]\n",
    "        )\n",
    "    return fetch_url_bbox\n",
    "\n",
    "\n",
    "def get_search_url_date_range(composite_options):\n",
    "    print(composite_options.start_date)\n",
    "    search_url_date_range = \"start={start_date}T00:00:00UTC&end={end_date}T00:00:00&\".format(\n",
    "        start_date=composite_options.start_date if composite_options.start_date != \"\" else \"2014-06-15\",\n",
    "        end_date=composite_options.end_date if composite_options.end_date != \"\" else str(date.today())\n",
    "        )\n",
    "    return search_url_date_range\n",
    "\n",
    "\n",
    "def get_search_url_polarization(composite_options):\n",
    "    search_url_polarization = \"polarization={polarization}\".format(\n",
    "        polarization=composite_options.polarization.upper()\n",
    "    ).replace(\"+\", \"%2B\")\n",
    "    return search_url_polarization\n",
    "\n",
    "\n",
    "def get_granule_names(granule_list):\n",
    "    granule_names = []\n",
    "    for granule in granule_list:\n",
    "        name = granule[\"granuleName\"]\n",
    "        granule_names.append(name)\n",
    "    return granule_names"
   ]
  },
  {
   "cell_type": "code",
   "execution_count": 46,
   "metadata": {},
   "outputs": [],
   "source": [
    "# Search url for granules to process with rtc gamma\n",
    "\n",
    "def build_search_url(composite_options):\n",
    "    base_url = \"https://api.daac.asf.alaska.edu/services/search/param?\"\n",
    "\n",
    "    search_url_bbox = get_search_url_bbox(composite_options)\n",
    "\n",
    "    search_url_date_range = get_search_url_date_range(composite_options)\n",
    "\n",
    "    search_url_polarization = get_search_url_polarization(composite_options)\n",
    "\n",
    "    search_url = \"{base_url}{bbox}{date_range}{polarization}&platform=S1&processingLevel=GRD_HD&output=JSON\".format(\n",
    "        base_url=base_url,\n",
    "        bbox=search_url_bbox,\n",
    "        date_range=search_url_date_range,\n",
    "        polarization=search_url_polarization\n",
    "        )\n",
    "    return search_url"
   ]
  },
  {
   "cell_type": "code",
   "execution_count": 47,
   "metadata": {},
   "outputs": [],
   "source": [
    "# Collects a list of granule names to process with rtc-gamma in HyP3 and the make our composite with\n",
    "\n",
    "import requests\n",
    "\n",
    "def fetch_granules(composite_options):\n",
    "    search_url = build_search_url(composite_options)\n",
    "    granules = requests.get(search_url).json()[0] \n",
    "    # Somewhat confusing format but .json() call creates a list where the first element\n",
    "    # is a dictionary containing a variety of information about said granules\n",
    "    granule_names = get_granule_names(granules)\n",
    "    granule_names = granule_names[0:composite_options.granule_count]\n",
    "\n",
    "    if granule_names == []:\n",
    "        raise Exception(\"No granules found\")\n",
    "    return granule_names"
   ]
  },
  {
   "cell_type": "code",
   "execution_count": 48,
   "metadata": {},
   "outputs": [
    {
     "name": "stdout",
     "output_type": "stream",
     "text": [
      "\n",
      "polarization=VV%2BVH\n",
      "https://api.daac.asf.alaska.edu/services/search/param?bbox=120.5,60.6,120.9,61.6&start=2014-06-15T00:00:00UTC&end=2021-08-27T00:00:00&polarization=VV%2BVH&platform=S1&processingLevel=GRD_HD&output=JSON\n"
     ]
    }
   ],
   "source": [
    "granules = fetch_granules(composite_options=composite_options)"
   ]
  },
  {
   "cell_type": "code",
   "execution_count": 6,
   "metadata": {},
   "outputs": [],
   "source": [
    "from hyp3_sdk import HyP3\n",
    "from datetime import datetime\n",
    "# A datetime timestamp is used to make sure each run of script results in a unique file location for final output\n",
    "\n",
    "def rtc_gamma(granules, composite_options):\n",
    "    # runs rtc gamma and waits 3 hours for completion of jobs\n",
    "    hyp3 = HyP3(username=composite_options.earthdata_username, password=composite_options.earthdata_password)\n",
    "    rtc_gamma_jobs = [hyp3.prepare_rtc_job(granule=granule, include_scattering_area=True) for granule in granules]\n",
    "    rtc_gamma_batch = hyp3.submit_prepared_jobs(rtc_gamma_jobs)\n",
    "    rtc_gamma_batch = hyp3.watch(rtc_gamma_batch)\n",
    "    return rtc_gamma_batch\n",
    "\n",
    "def download_gamma_products(gamma_batch, composite_options):\n",
    "    download_location = \"{now}_min:{lon_lat_min}_max:{lon_lat_max}_granules:{granule_count}\".format(\n",
    "        now=datetime.now().isoformat(),\n",
    "        lon_lat_min=composite_options.lon_lat_minimum,\n",
    "        lon_lat_max=composite_options.lon_lat_maximum,\n",
    "        granule_count=len(granules)\n",
    "    )\n",
    "    gamma_batch.download_files(location=download_location)\n",
    "    return download_location\n",
    "\n",
    "def run_rtc_gamma(granules, composite_options):\n",
    "    rtc_gamma_batch = rtc_gamma(granules, composite_options)\n",
    "    download_location = download_gamma_products(gamma_batch=rtc_gamma_batch, composite_options=composite_options)\n",
    "    return download_location"
   ]
  },
  {
   "cell_type": "code",
   "execution_count": 49,
   "metadata": {},
   "outputs": [
    {
     "data": {
      "application/vnd.jupyter.widget-view+json": {
       "model_id": "6ae661dbb1354c5dba68b5e68e159674",
       "version_major": 2,
       "version_minor": 0
      },
      "text/plain": [
       "  0%|          | 0/4 [timeout in 10800 s]"
      ]
     },
     "metadata": {},
     "output_type": "display_data"
    },
    {
     "data": {
      "application/vnd.jupyter.widget-view+json": {
       "model_id": "44d32a9512d54e999df7fe60f715b3a5",
       "version_major": 2,
       "version_minor": 0
      },
      "text/plain": [
       "  0%|          | 0/4 [00:00<?, ?it/s]"
      ]
     },
     "metadata": {},
     "output_type": "display_data"
    },
    {
     "data": {
      "application/vnd.jupyter.widget-view+json": {
       "model_id": "9b083536bccf496fb0c7ddc29e905251",
       "version_major": 2,
       "version_minor": 0
      },
      "text/plain": [
       "S1B_IW_20210726T222244_DVP_RTC30_G_gpuned_C290.zip:   0%|          | 0/662235409 [00:00<?, ?it/s]"
      ]
     },
     "metadata": {},
     "output_type": "display_data"
    },
    {
     "data": {
      "application/vnd.jupyter.widget-view+json": {
       "model_id": "75481e829eaa47f0bc2b69c774640950",
       "version_major": 2,
       "version_minor": 0
      },
      "text/plain": [
       "S1B_IW_20210714T222243_DVP_RTC30_G_gpuned_4480.zip:   0%|          | 0/661544794 [00:00<?, ?it/s]"
      ]
     },
     "metadata": {},
     "output_type": "display_data"
    },
    {
     "data": {
      "application/vnd.jupyter.widget-view+json": {
       "model_id": "2a7b4a8ff3cf4d9da3e93ccf08f91ff7",
       "version_major": 2,
       "version_minor": 0
      },
      "text/plain": [
       "S1B_IW_20210702T222242_DVP_RTC30_G_gpuned_4C44.zip:   0%|          | 0/659627823 [00:00<?, ?it/s]"
      ]
     },
     "metadata": {},
     "output_type": "display_data"
    },
    {
     "data": {
      "application/vnd.jupyter.widget-view+json": {
       "model_id": "6fc25efae6f645a2ba6418c3cada7aa2",
       "version_major": 2,
       "version_minor": 0
      },
      "text/plain": [
       "S1B_IW_20210620T222242_DVP_RTC30_G_gpuned_16DB.zip:   0%|          | 0/659311362 [00:00<?, ?it/s]"
      ]
     },
     "metadata": {},
     "output_type": "display_data"
    }
   ],
   "source": [
    "download_location = run_rtc_gamma(granules=granules, composite_options=composite_options)"
   ]
  },
  {
   "cell_type": "code",
   "execution_count": 7,
   "metadata": {},
   "outputs": [],
   "source": [
    "# This cell includes functions for running the make_composite tool in the asf_tools package on\n",
    "# the rtc gamma products we have just generated and downloaded\n",
    "\n",
    "from zipfile import ZipFile\n",
    "from pathlib import Path\n",
    "from asf_tools.composite import make_composite\n",
    "\n",
    "\n",
    "def collect_polarized_products(products_path, polarization):\n",
    "    products = list(products_path.glob(\"**/*{polarization}.tif\".format(\n",
    "        polarization=polarization)\n",
    "        ))\n",
    "    products = [str(product) for product in products]\n",
    "    return products\n",
    "\n",
    "def unzip_rtc_products(download_location, polarization):\n",
    "    products_path = Path(download_location)\n",
    "    zipped_products = list(products_path.glob('**/*.zip'))\n",
    "    for zipped_product in zipped_products:\n",
    "        with ZipFile(zipped_product, 'r') as zipObj:\n",
    "            zipObj.extractall(\"{location}\".format(location=download_location))\n",
    "    # Checks for both vv and vh rtc-gamma products. If both are present make composite will be run\n",
    "    # twice, once on each group\n",
    "    unzipped_products = {\"vv_products\": collect_polarized_products(products_path, \"VV\") if \"vv\" in polarization else [],\n",
    "                         \"vh_products\": collect_polarized_products(products_path, \"VH\") if \"vh\" in polarization else []} \n",
    "    return unzipped_products\n",
    "\n",
    "\n",
    "def run_make_composite(download_location, composite_options):\n",
    "    unzipped_products = unzip_rtc_products(download_location, polarization=composite_options.polarization)\n",
    "    if unzipped_products[\"vv_products\"] != []:\n",
    "        make_composite(\"{location}/VV-composite\".format(location=download_location),\n",
    "                       unzipped_products[\"vv_products\"])\n",
    "    if unzipped_products[\"vh_products\"] != []:\n",
    "        make_composite(\"{location}/VH-composite\".format(location=download_location),\n",
    "                       unzipped_products[\"vh_products\"])"
   ]
  },
  {
   "cell_type": "code",
   "execution_count": 50,
   "metadata": {},
   "outputs": [
    {
     "name": "stderr",
     "output_type": "stream",
     "text": [
      "/home/hal/miniconda3/envs/composite_wrapper_env/lib/python3.9/site-packages/asf_tools/composite.py:287: RuntimeWarning: divide by zero encountered in true_divide\n",
      "  raster_weights = 1.0 / areas\n",
      "/home/hal/miniconda3/envs/composite_wrapper_env/lib/python3.9/site-packages/asf_tools/composite.py:297: RuntimeWarning: invalid value encountered in true_divide\n",
      "  outputs /= weights\n"
     ]
    }
   ],
   "source": [
    "# Running make_composite\n",
    "\n",
    "run_make_composite(download_location=download_location, composite_options=composite_options)"
   ]
  },
  {
   "cell_type": "code",
   "execution_count": 12,
   "metadata": {},
   "outputs": [
    {
     "name": "stdout",
     "output_type": "stream",
     "text": [
      "provide your earthdata username: hadimarchi\n",
      "provide your earthdata password: ········\n",
      "provide start date for granule search in the form of yyyy-mm-dd or leave blank: 2020-04-20\n",
      "provide end date for granule search in the form of yyyy-mm-dd or leave blank: 2020-05-20\n",
      "provide a coordinate to define lower left corner of bounding box in the form 'min_lon min_lat': 124.0 34.0\n",
      "provide a coordinate to define upper right corner of bounding box in the form 'max_lon max_lat': 125.0 35.0\n",
      "provide the maximum number of granules for composite process: vv\n"
     ]
    },
    {
     "ename": "ValueError",
     "evalue": "invalid literal for int() with base 10: 'vv'",
     "output_type": "error",
     "traceback": [
      "\u001b[0;31m---------------------------------------------------------------------------\u001b[0m",
      "\u001b[0;31mValueError\u001b[0m                                Traceback (most recent call last)",
      "\u001b[0;32m<ipython-input-12-bf517b400202>\u001b[0m in \u001b[0;36m<module>\u001b[0;34m\u001b[0m\n\u001b[1;32m      2\u001b[0m \u001b[0;34m\u001b[0m\u001b[0m\n\u001b[1;32m      3\u001b[0m \u001b[0mcomposite_options\u001b[0m\u001b[0;34m=\u001b[0m\u001b[0mcompositeOptions\u001b[0m\u001b[0;34m(\u001b[0m\u001b[0;34m)\u001b[0m\u001b[0;34m\u001b[0m\u001b[0;34m\u001b[0m\u001b[0m\n\u001b[0;32m----> 4\u001b[0;31m \u001b[0mcomposite_options\u001b[0m\u001b[0;34m.\u001b[0m\u001b[0mget_options\u001b[0m\u001b[0;34m(\u001b[0m\u001b[0;34m)\u001b[0m\u001b[0;34m\u001b[0m\u001b[0;34m\u001b[0m\u001b[0m\n\u001b[0m\u001b[1;32m      5\u001b[0m \u001b[0mgranules\u001b[0m \u001b[0;34m=\u001b[0m \u001b[0mfetch_granules\u001b[0m\u001b[0;34m(\u001b[0m\u001b[0mcomposite_options\u001b[0m\u001b[0;34m=\u001b[0m\u001b[0mcomposite_options\u001b[0m\u001b[0;34m)\u001b[0m\u001b[0;34m\u001b[0m\u001b[0;34m\u001b[0m\u001b[0m\n\u001b[1;32m      6\u001b[0m \u001b[0mdownload_location\u001b[0m \u001b[0;34m=\u001b[0m \u001b[0mrun_rtc_gamma\u001b[0m\u001b[0;34m(\u001b[0m\u001b[0mgranules\u001b[0m\u001b[0;34m=\u001b[0m\u001b[0mgranules\u001b[0m\u001b[0;34m,\u001b[0m \u001b[0mcomposite_options\u001b[0m\u001b[0;34m=\u001b[0m\u001b[0mcomposite_options\u001b[0m\u001b[0;34m)\u001b[0m\u001b[0;34m\u001b[0m\u001b[0;34m\u001b[0m\u001b[0m\n",
      "\u001b[0;32m<ipython-input-2-4e4874a83d34>\u001b[0m in \u001b[0;36mget_options\u001b[0;34m(self)\u001b[0m\n\u001b[1;32m     12\u001b[0m         \u001b[0mself\u001b[0m\u001b[0;34m.\u001b[0m\u001b[0mlon_lat_minimum\u001b[0m\u001b[0;34m=\u001b[0m\u001b[0minput\u001b[0m\u001b[0;34m(\u001b[0m\u001b[0;34m\"provide a coordinate to define lower left corner of bounding box in the form 'min_lon min_lat': \"\u001b[0m\u001b[0;34m)\u001b[0m\u001b[0;34m\u001b[0m\u001b[0;34m\u001b[0m\u001b[0m\n\u001b[1;32m     13\u001b[0m         \u001b[0mself\u001b[0m\u001b[0;34m.\u001b[0m\u001b[0mlon_lat_maximum\u001b[0m\u001b[0;34m=\u001b[0m\u001b[0minput\u001b[0m\u001b[0;34m(\u001b[0m\u001b[0;34m\"provide a coordinate to define upper right corner of bounding box in the form 'max_lon max_lat': \"\u001b[0m\u001b[0;34m)\u001b[0m\u001b[0;34m\u001b[0m\u001b[0;34m\u001b[0m\u001b[0m\n\u001b[0;32m---> 14\u001b[0;31m         \u001b[0mself\u001b[0m\u001b[0;34m.\u001b[0m\u001b[0mgranule_count\u001b[0m\u001b[0;34m=\u001b[0m\u001b[0mint\u001b[0m\u001b[0;34m(\u001b[0m\u001b[0minput\u001b[0m\u001b[0;34m(\u001b[0m\u001b[0;34m\"provide the maximum number of granules for composite process: \"\u001b[0m\u001b[0;34m)\u001b[0m\u001b[0;34m)\u001b[0m\u001b[0;34m\u001b[0m\u001b[0;34m\u001b[0m\u001b[0m\n\u001b[0m\u001b[1;32m     15\u001b[0m         \u001b[0mself\u001b[0m\u001b[0;34m.\u001b[0m\u001b[0mpolarization\u001b[0m\u001b[0;34m=\u001b[0m\u001b[0minput\u001b[0m\u001b[0;34m(\u001b[0m\u001b[0;34m\"provide desired polarization of granules [vv, vh, vv+vh]\"\u001b[0m\u001b[0;34m)\u001b[0m\u001b[0;34m\u001b[0m\u001b[0;34m\u001b[0m\u001b[0m\n\u001b[1;32m     16\u001b[0m \u001b[0;34m\u001b[0m\u001b[0m\n",
      "\u001b[0;31mValueError\u001b[0m: invalid literal for int() with base 10: 'vv'"
     ]
    }
   ],
   "source": [
    "# All steps for make composite together\n",
    "\n",
    "composite_options=compositeOptions()\n",
    "composite_options.get_options()\n",
    "granules = fetch_granules(composite_options=composite_options)\n",
    "download_location = run_rtc_gamma(granules=granules, composite_options=composite_options)\n",
    "run_make_composite(download_location=download_location, composite_options=composite_options)"
   ]
  },
  {
   "cell_type": "code",
   "execution_count": null,
   "metadata": {},
   "outputs": [],
   "source": []
  }
 ],
 "metadata": {
  "kernelspec": {
   "display_name": "composite_wrapper_env",
   "language": "python",
   "name": "composite_wrapper_env"
  },
  "language_info": {
   "codemirror_mode": {
    "name": "ipython",
    "version": 3
   },
   "file_extension": ".py",
   "mimetype": "text/x-python",
   "name": "python",
   "nbconvert_exporter": "python",
   "pygments_lexer": "ipython3",
   "version": "3.9.1"
  }
 },
 "nbformat": 4,
 "nbformat_minor": 4
}
